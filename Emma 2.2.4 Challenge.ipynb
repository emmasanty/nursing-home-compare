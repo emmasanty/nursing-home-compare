{
 "cells": [
  {
   "cell_type": "markdown",
   "metadata": {},
   "source": [
    "# Prep Course Unit 2.2.4 Challenge - Emma\n",
    "\n",
    "## The dataset\n",
    "The data I used here was part of the official datasets used on the Medicare.gov Nursing Home Compare Website provided by the Centers for Medicare & Medicaid Services. The data was last updated on Apr 25, 2018, and contains results from Year 2017.\n",
    "\n",
    "\n",
    "This dataset includes data on many different attributes of the nursing home rating system.\n",
    "Among those, the relevant variable used in this analysis are:\n",
    "\n",
    "__PROVNUM__ - Federal Provider Number\n",
    "\n",
    "__STATE__ - Provider State\n",
    "\n",
    "__RESTOT__ - Average Number of Residents per Day\n",
    "\n",
    "__BEDCERT__ - Number of Certified Beds\n",
    "\n",
    "__OVERALL_RATING__ - Overall Rating\n",
    "\n",
    "__TOTHRD__ - Reported Total Nurse Staffing Hours per Resident per Day\n",
    "\n",
    "__PTHRD__ - Reported Physical Therapist Staffing Hours per Resident Per Day\n",
    "\n",
    "__WEIGHTED_ALL_CYCLES_SCORE__ - Total Weighted Health Inspection Score\n",
    "\n",
    "More detailed description of the nursing home rating system can be found in the [Technical User's Guide](https://www.cms.gov/medicare/provider-enrollment-and-certification/certificationandcomplianc/downloads/usersguide.pdf).\n",
    "\n",
    "Now, let's load the data and clean it a little bit:"
   ]
  },
  {
   "cell_type": "code",
   "execution_count": null,
   "metadata": {},
   "outputs": [],
   "source": [
    "import pandas as pd\n",
    "import numpy as np\n",
    "import matplotlib.pyplot as plt\n",
    "import seaborn as sns\n",
    "%matplotlib inline\n",
    "\n",
    "#Load data\n",
    "df = pd.read_csv('Challenge_dataset.csv', index_col='PROVNUM')\n",
    "\n",
    "#Removing data with missing values\n",
    "df_nona = df.dropna()\n",
    "\n",
    "#Check the column types\n",
    "df_nona.dtypes\n"
   ]
  },
  {
   "cell_type": "markdown",
   "metadata": {},
   "source": [
    "It looks like one of the columns, \"WEIGHTED_ALL_CYCLES_SCORE\", which should be a continuous variable of float type, is object type. So let's change that:"
   ]
  },
  {
   "cell_type": "code",
   "execution_count": null,
   "metadata": {},
   "outputs": [],
   "source": [
    "#Changing 'WEIGHTED_ALL_CYCLES_SCORE' from object type to float\n",
    "df_nona['WEIGHTED_ALL_CYCLES_SCORE'] = df_nona['WEIGHTED_ALL_CYCLES_SCORE'].apply(pd.to_numeric)\n"
   ]
  },
  {
   "cell_type": "markdown",
   "metadata": {},
   "source": [
    "Now that our data is kind of clean. We can start exploring.\n",
    "\n",
    "## Distribution of the variables\n",
    "First thing first, we can check the distribution of all the applicable variables of our data. This visual check can guide us in future statistical analyses if needed."
   ]
  },
  {
   "cell_type": "code",
   "execution_count": null,
   "metadata": {},
   "outputs": [],
   "source": [
    "#Check the distribution of variables on national level.\n",
    "fig = plt.figure(figsize=(10, 5))\n",
    "\n",
    "plt.subplot(2, 3, 1)\n",
    "plt.hist(df_nona['RESTOT'], bins=100, color='salmon')\n",
    "plt.xlabel('Average Number of Residents per Day')\n",
    "plt.ylabel('Number of Providers')\n",
    "\n",
    "plt.subplot(2, 3, 2)\n",
    "plt.hist(df_nona['BEDCERT'], bins=100, color='pink')\n",
    "plt.xlabel('Number of Certified Beds')\n",
    "plt.ylabel('Number of Providers')\n",
    "\n",
    "plt.subplot(2, 3, 3)\n",
    "plt.hist(df_nona['OVERALL_RATING'], bins=np.arange(0, 6), color='peachpuff')\n",
    "plt.xlabel('Overall Rating')\n",
    "plt.ylabel('Number of Providers')\n",
    "\n",
    "plt.subplot(2, 3, 4)\n",
    "plt.hist(df_nona['TOTHRD'], bins=100, color='deepskyblue')\n",
    "plt.xlabel('Total Nurse Staffing Hours\\nper Resident per Day')\n",
    "plt.ylabel('Number of Providers')\n",
    "\n",
    "plt.subplot(2, 3, 5)\n",
    "plt.hist(df_nona['PTHRD'], bins=100, color='skyblue')\n",
    "plt.xlabel('Physical Therapist Staffing Hours\\nper Resident Per Day')\n",
    "plt.ylabel('Number of Providers')\n",
    "\n",
    "plt.subplot(2, 3, 6)\n",
    "plt.hist(df_nona['WEIGHTED_ALL_CYCLES_SCORE'], bins=100, color='springgreen')\n",
    "plt.xlabel('Health Inspection Score')\n",
    "plt.ylabel('Number of Providers')\n",
    "\n",
    "plt.suptitle('Distribution of Relevant Variables Nationwide')\n",
    "plt.tight_layout()\n",
    "fig.subplots_adjust(top=0.9)\n",
    "plt.show()"
   ]
  },
  {
   "cell_type": "markdown",
   "metadata": {},
   "source": [
    "Unfortunately, it looks like most of the variables seem to be skewed from a normal distribution. \"Total Nurse Staffing Hours per Resident per Day\" may be the closest to normal distribution among all. We will keep this in mind for future analysis.\n",
    "\n",
    "*Sidenote: just by the look of it, it seems like the health inspection score distribution is exactly the opposite of the overall rating. So it got me thinking, maybe they have an inverse relationship. When I search online for the details of this rating system, I did find out that higher health inspection score reflects more health deficiency, and unsurprisingly, that would lead to a lower overall rating.*\n",
    "\n",
    "\n",
    "## Which state has the most 5-star overall rating providers?\n",
    "Now we can ask some specific questions based on the data. For example, say we want to know which state has the most good quality nursing home providers that have five star overall rating."
   ]
  },
  {
   "cell_type": "code",
   "execution_count": null,
   "metadata": {},
   "outputs": [],
   "source": [
    "#Which state has the most 5-star overall rating providers?\n",
    "five_star = df_nona.loc[lambda df: df_nona['OVERALL_RATING'] == 5, :]\n",
    "count = pd.Series(pd.Categorical(five_star['STATE'], categories=df_nona['STATE'].unique()))\n",
    "five_star_provider = pd.DataFrame()\n",
    "five_star_provider['STATE'] = count.value_counts().keys().tolist()\n",
    "five_star_provider['Five_Star_No'] = count.value_counts().tolist()\n",
    "\n",
    "plt.figure(figsize=(15, 5))\n",
    "label = five_star_provider['STATE']\n",
    "index = np.arange(len(label))\n",
    "width = 0.8\n",
    "plt.bar(index, five_star_provider['Five_Star_No'], width)\n",
    "plt.xlabel('State', fontsize=10)\n",
    "plt.ylabel('No. of 5-star providers', fontsize=10)\n",
    "plt.xticks(index, label, fontsize=8,)\n",
    "plt.title('Number of Providers with Five-star Overall Rating in Each State in 2017')\n",
    "plt.gca().set_xlim(left=-1, right=len(index)+0.5)\n",
    "plt.show()"
   ]
  },
  {
   "cell_type": "markdown",
   "metadata": {},
   "source": [
    "Wow. California has way more five-star nursing homes than other state! No wonder everybody I know wants to move to California for retirement. Not surprisingly, the next best place for retirement, Florida, falls just behind California. What's surprising to me is the next two, Ohio and Pennsylvania. Didn't think they would do so well.\n",
    "\n",
    "To conclude, the top 10 states that have the most 5-star overall rating providers are: CA, FL, OH, PA, NY, IL, MI, IA, TX, NJ.\n",
    "\n",
    "However, these results could also be due to the fact that CA and FL just have more nursing homes in general compared to other states. So let's see if that's true."
   ]
  },
  {
   "cell_type": "code",
   "execution_count": null,
   "metadata": {},
   "outputs": [],
   "source": [
    "#How many providers in total does each state have?\n",
    "five_star_provider['Total_Provider_No'] = df_nona['STATE'].value_counts().tolist()\n",
    "\n",
    "plt.figure(figsize=(15, 5))\n",
    "label = five_star_provider['STATE']\n",
    "index = np.arange(len(label))\n",
    "width = 0.8\n",
    "plt.bar(index, five_star_provider['Total_Provider_No'], width)\n",
    "plt.xlabel('State', fontsize=10)\n",
    "plt.ylabel('Total No. of Providers', fontsize=10)\n",
    "plt.xticks(index, label, fontsize=8,)\n",
    "plt.title('Total Number of Providers in Each State in 2017')\n",
    "plt.gca().set_xlim(left=-1, right=len(index)+0.5)\n",
    "plt.show()"
   ]
  },
  {
   "cell_type": "markdown",
   "metadata": {},
   "source": [
    "Aha! No wonder. Just as we speculated.\n",
    "\n",
    "So what we really want to know then, is the percentage of five-star providers in each state, rather than the exact number. Let's take a look."
   ]
  },
  {
   "cell_type": "code",
   "execution_count": null,
   "metadata": {},
   "outputs": [],
   "source": [
    "#What are the percentage of 5-star providers in each state?\n",
    "five_star_provider['Percentage_five_star'] = (five_star_provider['Five_Star_No']/five_star_provider['Total_Provider_No']) * 100\n",
    "five_star_provider = five_star_provider.sort_values('Percentage_five_star', ascending=False)\n",
    "\n",
    "plt.figure(figsize=(15, 5))\n",
    "label = five_star_provider['STATE']\n",
    "index = np.arange(len(label))\n",
    "width = 0.8\n",
    "plt.bar(index, five_star_provider['Percentage_five_star'], width)\n",
    "plt.xlabel('State', fontsize=10)\n",
    "plt.ylabel('Total No. of Providers', fontsize=10)\n",
    "plt.xticks(index, label, fontsize=8,)\n",
    "plt.title('Percentage of 5-Star Providers in Each State in 2017')\n",
    "plt.gca().set_xlim(left=-1, right=len(index)+0.5)\n",
    "plt.show()"
   ]
  },
  {
   "cell_type": "markdown",
   "metadata": {},
   "source": [
    "Now the top 10 becomes: DC, AK, CA, HI, WY, MT, NM, SD, NV, NJ.\n",
    "\n",
    "Therefore, although CA has way more nursing homes than others, and therefore has more five-star ones as well, you have a higher chance of walking into a random nursing home in DC, and it being a five-star one.\n",
    "\n",
    "\n",
    "## How did each state do on the health inspection in 2017?\n",
    "Now, we know the overall rating comprises evaluation of different aspects of the nursing homes, such as health inspection, staffing condition and a multi-metric quality measurement. Say we want to know how each state did on the health inspection in 2017.\n",
    "\n",
    "*Reminder: higher health inspection score reflects more health deficiency.*"
   ]
  },
  {
   "cell_type": "code",
   "execution_count": null,
   "metadata": {},
   "outputs": [],
   "source": [
    "#How did each state do on the health inspection in 2017?\n",
    "sns.factorplot(kind='box',        # Boxplot\n",
    "               y='WEIGHTED_ALL_CYCLES_SCORE',       # Y-axis - values for boxplot\n",
    "               x='STATE',        # X-axis - first factor\n",
    "               data=df_nona,        # Dataframe \n",
    "               size=8,            # Figure size (x100px)      \n",
    "               aspect=1.5,        # Width = size * aspect \n",
    "               legend_out=False)  # Make legend inside the plot\n",
    "plt.ylabel('Health Inspection Score')\n",
    "plt.show()"
   ]
  },
  {
   "cell_type": "markdown",
   "metadata": {},
   "source": [
    "This graph is a bit busy, and contains much information. For now, we are just wondering about the general situation nationwide. If we need to compare several specific states, we can also easily do that with the same method.\n",
    "\n",
    "Just from a quick look, we can already see that the states which have the highest percentage of 5-star providers, DC and AK, have much less high-score outliers than others.\n",
    "\n",
    "\n",
    "## Is there a relationship between health inspection scores and overall ratings?\n",
    "Now I'm really curious. Although we can kind of speculate there is some relationship between health inspection scores and overall ratings, we don't know for sure. We haven't seen it. Seeing is believing, right?"
   ]
  },
  {
   "cell_type": "code",
   "execution_count": null,
   "metadata": {},
   "outputs": [],
   "source": [
    "#Is there a relationship between health inspection scores and overall ratings?\n",
    "sns.regplot(x='OVERALL_RATING', y='WEIGHTED_ALL_CYCLES_SCORE',\n",
    "            data=df_nona, scatter_kws={'s':10})\n",
    "plt.xlabel('Health Inspection Score')\n",
    "plt.ylabel('Overall Rating')\n",
    "plt.show()"
   ]
  },
  {
   "cell_type": "markdown",
   "metadata": {},
   "source": [
    "Meh. Somewhat. There seems to be an inverse correlation between the two. But before doing any statistical analysis, we can't say for sure.\n",
    "\n",
    "## Is there any relationship between health inspection scores and the number of certified beds or residents, or the staffing situation?\n",
    "Now we are interested to see if the facility and staffing situation in each provider affect its health inspection score. Since CA has the most providers, let's focus on CA for now. We can also do other states or on the national level in the same way."
   ]
  },
  {
   "cell_type": "code",
   "execution_count": null,
   "metadata": {},
   "outputs": [],
   "source": [
    "#Let's focus on the data in California.\n",
    "ca = df_nona[df_nona['STATE'] == 'CA']\n",
    "\n",
    "#Is there any relationship between health inspection scores and\n",
    "#the number of certified beds or residents, or the staffing situation?\n",
    "fig = plt.figure(figsize=(10, 8))\n",
    "\n",
    "plt.subplot(2, 2, 1)\n",
    "sns.regplot(x='WEIGHTED_ALL_CYCLES_SCORE', y='RESTOT', data=ca, scatter_kws={'s':10})\n",
    "plt.xlabel('Health Inspection Score')\n",
    "plt.ylabel('Average Number of Residents per Day')\n",
    "\n",
    "plt.subplot(2, 2, 2)\n",
    "sns.regplot(x='WEIGHTED_ALL_CYCLES_SCORE', y='BEDCERT', data=ca,\n",
    "            scatter_kws={'s':10}, color='g')\n",
    "plt.xlabel('Health Inspection Score')\n",
    "plt.ylabel('Number of Certified Beds')\n",
    "\n",
    "plt.subplot(2, 2, 3)\n",
    "sns.regplot(x='WEIGHTED_ALL_CYCLES_SCORE', y='TOTHRD', data=ca,\n",
    "            scatter_kws={'s':10}, color='salmon')\n",
    "plt.xlabel('Health Inspection Score')\n",
    "plt.ylabel('Total Nurse Staffing Hours\\nper Resident per Day')\n",
    "\n",
    "plt.subplot(2, 2, 4)\n",
    "sns.regplot(x='WEIGHTED_ALL_CYCLES_SCORE', y='PTHRD', data=ca,\n",
    "            scatter_kws={'s':10}, color='orange')\n",
    "plt.xlabel('Health Inspection Score')\n",
    "plt.ylabel('Physical Therapist Staffing Hours\\nper Resident Per Day')\n",
    "\n",
    "plt.suptitle('Relationship between Variables and Health Inspection Scores')\n",
    "plt.tight_layout()\n",
    "fig.subplots_adjust(top=0.92)\n",
    "plt.show()\n"
   ]
  },
  {
   "cell_type": "markdown",
   "metadata": {},
   "source": [
    "Interesting. It looks like number of residents and number of beds have a positive correlation with the health inspection score, while the nurse and physical therapist staffing hours negatively correlate with the score.\n",
    "\n",
    "It is not surprising, as the more residents a nursing home has, the more health deficiency complaints they may have due to insufficient care, thus increasing the health inspection score. And increasing staffing may resolve this situation, and may therefore lower the health inspection score.\n",
    "\n",
    "\n",
    "## Is there any relationship between overall ratings and the number of certified beds or residents, or the staffing situation?\n",
    "Now we can do the same for overall ratings, see if these factors affect it."
   ]
  },
  {
   "cell_type": "code",
   "execution_count": null,
   "metadata": {},
   "outputs": [],
   "source": [
    "#Is there any relationship between overall ratings and\n",
    "#the number of certified beds or residents, or the staffing situation?\n",
    "fig = plt.figure(figsize=(10, 8))\n",
    "\n",
    "plt.subplot(2, 2, 1)\n",
    "sns.regplot(x='OVERALL_RATING', y='RESTOT', data=ca, scatter_kws={'s':10})\n",
    "plt.xlabel('Overall Rating')\n",
    "plt.ylabel('Average Number of Residents per Day')\n",
    "\n",
    "plt.subplot(2, 2, 2)\n",
    "sns.regplot(x='OVERALL_RATING', y='BEDCERT', data=ca,\n",
    "            scatter_kws={'s':10}, color='g')\n",
    "plt.xlabel('Overall Rating')\n",
    "plt.ylabel('Number of Certified Beds')\n",
    "\n",
    "plt.subplot(2, 2, 3)\n",
    "sns.regplot(x='OVERALL_RATING', y='TOTHRD', data=ca,\n",
    "            scatter_kws={'s':10}, color='salmon')\n",
    "plt.xlabel('Overall Rating')\n",
    "plt.ylabel('Total Nurse Staffing Hours\\nper Resident per Day')\n",
    "\n",
    "plt.subplot(2, 2, 4)\n",
    "sns.regplot(x='OVERALL_RATING', y='PTHRD', data=ca,\n",
    "            scatter_kws={'s':10}, color='orange')\n",
    "plt.xlabel('Overall Rating')\n",
    "plt.ylabel('Physical Therapist Staffing Hours\\nper Resident Per Day')\n",
    "\n",
    "plt.suptitle('Relationship between Variables and Overall Ratings')\n",
    "plt.tight_layout()\n",
    "fig.subplots_adjust(top=0.92)\n",
    "plt.show()"
   ]
  },
  {
   "cell_type": "markdown",
   "metadata": {},
   "source": [
    "Ha, you can see that the trends seem to have reversed, compared to the last graph of health inspection score.\n",
    "\n",
    "This makes a lot of sense, because we know from earlier that health inspection score has an inverse relationship with overall rating.\n",
    "\n",
    "We can delve even more and a lot deeper into the data, but for now, let's stop here. I love data science!"
   ]
  }
 ],
 "metadata": {
  "kernelspec": {
   "display_name": "Python 3",
   "language": "python",
   "name": "python3"
  },
  "language_info": {
   "codemirror_mode": {
    "name": "ipython",
    "version": 3
   },
   "file_extension": ".py",
   "mimetype": "text/x-python",
   "name": "python",
   "nbconvert_exporter": "python",
   "pygments_lexer": "ipython3",
   "version": "3.6.4"
  }
 },
 "nbformat": 4,
 "nbformat_minor": 2
}
